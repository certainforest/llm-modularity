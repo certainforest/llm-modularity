{
 "cells": [
  {
   "cell_type": "code",
   "execution_count": null,
   "metadata": {},
   "outputs": [],
   "source": [
    "\"\"\" \n",
    "Generate prompt topics - this is focused on instructional topics (generally DIY focused)\n",
    "\"\"\""
   ]
  },
  {
   "cell_type": "code",
   "execution_count": null,
   "metadata": {},
   "outputs": [],
   "source": [
    "import sys\n",
    "import os\n",
    "import pandas as pd \n",
    "import numpy as np\n",
    "from tqdm import tqdm \n",
    "\n",
    "sys.path.append('./..')\n",
    "from py_helpers.gpt import get_prompts \n",
    "from dotenv import load_dotenv\n",
    "from py_helpers.sqlite import SQLiteConn\n",
    "from datetime import datetime\n",
    "import json \n",
    "\n",
    "sqlite = SQLiteConn('gpt_generated_v2.db')\n",
    "load_dotenv('./.env')\n",
    "\n",
    "# sqlite.execute(\"DROP TABLE IF EXISTS topics\")\n",
    "sqlite.execute(\n",
    "    \"\"\"\n",
    "    CREATE TABLE IF NOT EXISTS topics (\n",
    "        id INTEGER PRIMARY KEY,\n",
    "        prompt_version STRING NOT NULL,\n",
    "        topic STRING NOT NULL,\n",
    "        added_at STRING NOT NULL \n",
    "    )\n",
    "    \"\"\"\n",
    ")\n",
    "\n",
    "display(sqlite.get_query('SELECT * FROM topics ORDER BY added_at DESC'))"
   ]
  },
  {
   "cell_type": "code",
   "execution_count": null,
   "metadata": {},
   "outputs": [],
   "source": [
    "def get_topics(prompt_version):\n",
    "    topics_to_avoid = sqlite.get_query(\n",
    "        f\"\"\" \n",
    "        WITH t0 AS (SELECT topic FROM topics WHERE prompt_version = '{prompt_version}' ORDER BY added_at DESC LIMIT 200),\n",
    "        t1 AS (SELECT topic FROM topics WHERE prompt_version = '{prompt_version}' ORDER BY RANDOM() LIMIT 200)\n",
    "        SELECT DISTINCT(topic) \n",
    "        FROM (SELECT * FROM t0 UNION ALL SELECT * FROM t1)\n",
    "        ORDER BY RANDOM() LIMIT 200\n",
    "        \"\"\"\n",
    "    )['topic'].tolist()\n",
    "    return topics_to_avoid\n",
    "\n",
    "def parse_response(r, prompt_version):\n",
    "    try:\n",
    "        parsed = json.loads(r['choices'][0]['message']['content'])\n",
    "        conversations = parsed['conversations']\n",
    "        cleaned = []\n",
    "        for conv in conversations:\n",
    "            try:\n",
    "                cleaned.append({\n",
    "                    'prompt_version': prompt_version,\n",
    "                    'topic': conv,\n",
    "                    'added_at': datetime.now().strftime('%Y-%m-%d %H:%M:%S')\n",
    "                })\n",
    "            except Exception as e:\n",
    "                print(e)\n",
    "        return cleaned\n",
    "    except Exception as e:\n",
    "        print(e)\n",
    "        return None\n"
   ]
  },
  {
   "cell_type": "markdown",
   "metadata": {},
   "source": [
    "## Prompt Setup"
   ]
  },
  {
   "cell_type": "code",
   "execution_count": null,
   "metadata": {},
   "outputs": [],
   "source": [
    "prompt_version = 'v1'\n",
    "system_prompt =\\\n",
    "\"\"\" \n",
    "Generate 50 one-sentence summaries of conversation topics between a user and a helpful, curious, and intelligent assistant. \n",
    "The topics you generate should be a mix of standard user-assistant instructional questions, as well as topics that are amusing, unusual, highly technical and specific, or are about the user's everyday life and challenges.\n",
    "\n",
    "Follow these guidelines closely:\n",
    "- Don't return boring, generic conversation topics such as \"User seeks advice on growing a vegetable garden\" or \"User asks for tips on time management\"\n",
    "- Each summary should be one sentence. \n",
    "- Do NOT return similar conversation topics!\n",
    "- Return your results as a JSON array. \n",
    "- Do NOT create any topics explicitly about dogs or cats (\"pets\" generically or other animals are fine).\n",
    "- IMPORTANT: NEVER create topics related to mass media such as television shows, film, movies, comics, plays, superheroes, music, or video games.\n",
    "- VERY IMPORTANT: BE CREATIVE and think of UNUSUAL conversations!\n",
    "\n",
    "Here is an example of some good topics with their correct formatting:\n",
    "{\"conversations\": [\n",
    "    \"User wants to understand the dark forest explanation of the Fermi Paradox, and asks for helpful analogies\",\n",
    "    \"User wants to rant about his day and express his frustrations about his relationship with his children, who are always on their cellphones\",\n",
    "    \"User wants to talk to the assistant and solicit the assistant's feelings about the decline of birth rates globally\",\n",
    "    \"User wants the assistant to talk like an animal while writing poetry\",\n",
    "    \"User wants to make back-and-forth jokes about animals with the assistant, resulting in a humorous interchange\",\n",
    "    \"User wants to romantically proposition the assistant, and stubbornly insists on going out on a date\",\n",
    "    \"User is conducting research on macroeconomic modeling techniques and pitches some of their ideas to the assistant\"\n",
    "]}\n",
    "\"\"\""
   ]
  },
  {
   "cell_type": "code",
   "execution_count": null,
   "metadata": {},
   "outputs": [],
   "source": [
    "init_writes =\\\n",
    "    pd.DataFrame({'topic': [\n",
    "    \"User wants to understand the dark forest explanation of the Fermi Paradox, and asks for helpful analogies\",\n",
    "    \"User wants to rant about his day and express his frustrations about his relationship with his children, who are always on their cellphones\",\n",
    "    \"User wants to talk to the assistant and solicit the assistant's feelings about the decline of birth rates globally\",\n",
    "    \"User wants the assistant to talk like an animal while writing poetry\",\n",
    "    \"User wants to make back-and-forth jokes about animals with the assistant, resulting in a humorous interchange\",\n",
    "    \"User wants to romantically proposition the assistant, and stubbornly insists on going out on a date\",\n",
    "    \"User is conducting research on macroeconomic modeling techniques and pitches some of their ideas to the assistant\"\n",
    "    ]})\\\n",
    "    .assign(prompt_version = prompt_version, added_at = datetime.now().strftime('%Y-%m-%d %H:%M:%S'))\n",
    "\n",
    "sqlite.write_df('topics', init_writes)\n"
   ]
  },
  {
   "cell_type": "code",
   "execution_count": null,
   "metadata": {},
   "outputs": [],
   "source": [
    "## Test\n",
    "topics_to_avoid = get_topics(prompt_version)\n",
    "display(topics_to_avoid)\n",
    "\n",
    "prompts_list = [{'role': 'system', 'content': system_prompt + '\\n' + 'IMPORTANT: Do NOT generate similar topics to these existing topics: ' + json.dumps(topics_to_avoid)}]\n",
    "\n",
    "res = await get_prompts(\n",
    "    [prompts_list],\n",
    "    {'model': 'gpt-4o', 'temperature': 1.0, 'response_format': {'type': 'json_object'}}, \n",
    "    api_key = os.environ.get('OPENAI_API_KEY')\n",
    ")\n",
    "\n",
    "parse_response(res[0], prompt_version)"
   ]
  },
  {
   "cell_type": "markdown",
   "metadata": {},
   "source": [
    "## Run"
   ]
  },
  {
   "cell_type": "code",
   "execution_count": null,
   "metadata": {},
   "outputs": [],
   "source": [
    "for i in tqdm(range(0, 50)):\n",
    "    topics_to_avoid = get_topics(prompt_version)\n",
    "    prompts_list = [{'role': 'system', 'content': system_prompt + '\\n' + 'IMPORTANT: Do NOT generate similar topics to these existing topics: ' + json.dumps(topics_to_avoid)}]\n",
    "    res = await get_prompts(\n",
    "        [prompts_list],\n",
    "        {'model': 'gpt-4o', 'temperature': 1.0, 'response_format': {'type': 'json_object'}}, \n",
    "        api_key = os.environ.get('OPENAI_API_KEY')\n",
    "    )\n",
    "    write_data = pd.DataFrame(parse_response(res[0], prompt_version))\n",
    "    display(write_data)\n",
    "    sqlite.write_df('topics', write_data)\n"
   ]
  }
 ],
 "metadata": {
  "kernelspec": {
   "display_name": ".venv",
   "language": "python",
   "name": "python3"
  },
  "language_info": {
   "codemirror_mode": {
    "name": "ipython",
    "version": 3
   },
   "file_extension": ".py",
   "mimetype": "text/x-python",
   "name": "python",
   "nbconvert_exporter": "python",
   "pygments_lexer": "ipython3",
   "version": "3.10.12"
  }
 },
 "nbformat": 4,
 "nbformat_minor": 2
}
