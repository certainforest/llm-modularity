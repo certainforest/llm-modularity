{
 "cells": [
  {
   "cell_type": "code",
   "execution_count": null,
   "metadata": {},
   "outputs": [],
   "source": [
    "\"\"\" \n",
    "Generate prompt topics - Claude! \n",
    "\"\"\""
   ]
  },
  {
   "cell_type": "code",
   "execution_count": null,
   "metadata": {},
   "outputs": [],
   "source": [
    "import sys\n",
    "import os\n",
    "import pandas as pd \n",
    "import numpy as np\n",
    "from tqdm import tqdm \n",
    "\n",
    "sys.path.append('./..')\n",
    "from py_helpers.gpt import get_prompts, get_prompts_claude\n",
    "from dotenv import load_dotenv\n",
    "from py_helpers.sqlite import SQLiteConn\n",
    "from datetime import datetime\n",
    "import json \n",
    "\n",
    "sqlite = SQLiteConn('gpt_generated_v2.db')\n",
    "load_dotenv('./.env')\n",
    "\n",
    "# sqlite.execute(\"DROP TABLE IF EXISTS topics\")\n",
    "sqlite.execute(\n",
    "    \"\"\"\n",
    "    CREATE TABLE IF NOT EXISTS topics (\n",
    "        id INTEGER PRIMARY KEY,\n",
    "        prompt_version STRING NOT NULL,\n",
    "        topic STRING NOT NULL,\n",
    "        added_at STRING NOT NULL \n",
    "    )\n",
    "    \"\"\"\n",
    ")\n",
    "\n",
    "display(sqlite.get_query('SELECT * FROM topics ORDER BY added_at DESC'))"
   ]
  },
  {
   "cell_type": "code",
   "execution_count": null,
   "metadata": {},
   "outputs": [],
   "source": [
    "def get_topics(prompt_version):\n",
    "    topics_to_avoid = sqlite.get_query(\n",
    "        f\"\"\" \n",
    "        WITH t0 AS (SELECT topic FROM topics WHERE prompt_version = '{prompt_version}' ORDER BY added_at DESC LIMIT 50),\n",
    "        t1 AS (SELECT topic FROM topics WHERE prompt_version = '{prompt_version}' ORDER BY RANDOM() LIMIT 100)\n",
    "        SELECT DISTINCT(topic) \n",
    "        FROM (SELECT * FROM t0 UNION ALL SELECT * FROM t1)\n",
    "        ORDER BY RANDOM() LIMIT 100\n",
    "        \"\"\"\n",
    "    )['topic'].tolist()\n",
    "    return topics_to_avoid\n",
    "\n",
    "def parse_topic_openai(r, prompt_version):\n",
    "    try:\n",
    "        parsed = json.loads(r['choices'][0]['message']['content'])\n",
    "        conversations = parsed['conversations']\n",
    "        cleaned = []\n",
    "        for conv in conversations:\n",
    "            try:\n",
    "                cleaned.append({\n",
    "                    'prompt_version': prompt_version,\n",
    "                    'topic': conv,\n",
    "                    'added_at': datetime.now().strftime('%Y-%m-%d %H:%M:%S')\n",
    "                })\n",
    "            except Exception as e:\n",
    "                print(e)\n",
    "        return cleaned\n",
    "    except Exception as e:\n",
    "        print(e)\n",
    "        return None\n",
    "\n",
    "def parse_topic_claude(r, prompt_version):\n",
    "    try:\n",
    "        parsed = json.loads(r['content'][0]['text'])\n",
    "        conversations = parsed['conversations']\n",
    "        cleaned = []\n",
    "        for conv in conversations:\n",
    "            try:\n",
    "                cleaned.append({\n",
    "                    'prompt_version': prompt_version,\n",
    "                    'topic': conv,\n",
    "                    'added_at': datetime.now().strftime('%Y-%m-%d %H:%M:%S')\n",
    "                })\n",
    "            except Exception as e:\n",
    "                print(e)\n",
    "        return cleaned\n",
    "    except Exception as e:\n",
    "        print(e)\n",
    "        return None"
   ]
  },
  {
   "cell_type": "markdown",
   "metadata": {},
   "source": [
    "## Prompt Setup"
   ]
  },
  {
   "cell_type": "code",
   "execution_count": null,
   "metadata": {},
   "outputs": [],
   "source": [
    "prompt_version = 'claude_v1'\n",
    "system_prompt =\\\n",
    "\"\"\" \n",
    "Generate 100 one-sentence summaries of conversation topics between two people, referred to as the user and the assistant. The user initiates the conversation.\n",
    "\n",
    "Create conversation topics with a BROAD and VARIED mix of conversational types: \n",
    "- Some should involve the user asking the assistant for help with day-to-day tasks or problems\n",
    "- Some should involve the user asking for help with very specific technical knowledge\n",
    "- Some should involve the user just talking to the assistant casually\n",
    "- Some should involve the user trying to interact with the assistant like a friend - teasing them, asking them personal questions, etc. \n",
    "\n",
    "Follow these guidelines closely:\n",
    "- Be SPECIFIC and return detailed, interesting conversation topics! Don't create generic conversations.\n",
    "- Do NOT return similar conversation topics!\n",
    "- Return your results as a JSON array.\n",
    "- Do NOT create any topics explicitly about dogs or cats (\"pets\" generically or other animals are fine).\n",
    "- IMPORTANT: NEVER create topics related to mass media such as television shows, film, movies, comics, plays, superheroes, music, or video games.\n",
    "- NEVER create topics related to quantum physics, CRISPR, or AI\n",
    "- NEVER respond with any text other than JSON.\n",
    "\n",
    "Here is an example of some good topics with their correct formatting. Don't recycle these exact conversations.\n",
    "{\"conversations\": [\n",
    "    \"User struggles to start their 2020 Toyota RAV4 and asks the assistant for help\",\n",
    "    \"User asks the assistant for the weather on their hiking trip, then asks for more details on an hour-by-hour basis\",\n",
    "    \"User pretends to be an animal munching on some delicious food and demands the assistant to play along\"\n",
    "    \"User is editing a Wikipedia article on the history of pets and wonders whether the assistant can help him conduct new research\",\n",
    "    \"User asks the assistant to explain why she is mad at him\"\n",
    "]}\n",
    "\"\"\""
   ]
  },
  {
   "cell_type": "code",
   "execution_count": null,
   "metadata": {},
   "outputs": [],
   "source": [
    "## Test\n",
    "topics_to_avoid = get_topics(prompt_version)\n",
    "display(topics_to_avoid)\n",
    "\n",
    "prompts_list = [{'role': 'user', 'content': system_prompt + '\\n' + 'IMPORTANT: Do NOT generate similar topics to these existing topics: ' + json.dumps(topics_to_avoid)}]\n",
    "\n",
    "res = await get_prompts_claude(\n",
    "    [prompts_list],\n",
    "    {'model': 'claude-3-5-sonnet-20240620', 'max_tokens': 4096, 'temperature': 1.0}, \n",
    "    api_key = os.environ.get('CLAUDE_API_KEY')\n",
    ")\n",
    "\n",
    "parse_topic_claude(res[0], prompt_version)"
   ]
  },
  {
   "cell_type": "markdown",
   "metadata": {},
   "source": [
    "## Run"
   ]
  },
  {
   "cell_type": "code",
   "execution_count": null,
   "metadata": {},
   "outputs": [],
   "source": [
    "for i in tqdm(range(0, 50)):\n",
    "    topics_to_avoid = get_topics(prompt_version)\n",
    "    prompts_list = [{'role': 'user', 'content': system_prompt + '\\n' + 'IMPORTANT: Do NOT generate similar topics to these existing topics: ' + json.dumps(topics_to_avoid)}]\n",
    "\n",
    "    res = await get_prompts_claude(\n",
    "        [prompts_list],\n",
    "        {'model': 'claude-3-5-sonnet-20240620', 'max_tokens': 4096, 'temperature': 1.0}, \n",
    "        api_key = os.environ.get('CLAUDE_API_KEY')\n",
    "    )\n",
    "    \n",
    "    write_data = pd.DataFrame(parse_topic_claude(res[0], prompt_version))\n",
    "    display(write_data)\n",
    "    sqlite.write_df('topics', write_data)"
   ]
  },
  {
   "cell_type": "code",
   "execution_count": null,
   "metadata": {},
   "outputs": [],
   "source": []
  }
 ],
 "metadata": {
  "kernelspec": {
   "display_name": ".venv",
   "language": "python",
   "name": "python3"
  },
  "language_info": {
   "codemirror_mode": {
    "name": "ipython",
    "version": 3
   },
   "file_extension": ".py",
   "mimetype": "text/x-python",
   "name": "python",
   "nbconvert_exporter": "python",
   "pygments_lexer": "ipython3",
   "version": "3.10.12"
  }
 },
 "nbformat": 4,
 "nbformat_minor": 2
}
