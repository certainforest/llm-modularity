{
 "cells": [
  {
   "cell_type": "code",
   "execution_count": null,
   "metadata": {},
   "outputs": [],
   "source": [
    "# !pip install aiohttp\n",
    "# !pip install pandas\n",
    "# !pip install numpy\n",
    "# !pip install python-dotenv\n",
    "# !pip install tqdm\n",
    "#!pip install pyyaml"
   ]
  },
  {
   "cell_type": "code",
   "execution_count": null,
   "metadata": {},
   "outputs": [],
   "source": [
    "import sys\n",
    "import os\n",
    "import pandas as pd \n",
    "import numpy as np\n",
    "\n",
    "sys.path.append('./..')\n",
    "from py_helpers.gpt import get_prompts \n",
    "from dotenv import load_dotenv\n",
    "from py_helpers.sqlite import SQLiteConn\n",
    "\n",
    "sqlite = SQLiteConn('data.db')\n",
    "load_dotenv('./.env')"
   ]
  },
  {
   "cell_type": "markdown",
   "metadata": {},
   "source": [
    "## Testing"
   ]
  },
  {
   "cell_type": "code",
   "execution_count": null,
   "metadata": {},
   "outputs": [],
   "source": [
    "import yaml\n",
    "import json \n",
    "\n",
    "base_prompts = {}\n",
    "for v in ['v1', 'v2']:\n",
    "    with open('prompts/' + v + '.yaml') as f:\n",
    "        base_prompts[v] = [\n",
    "            {'role': 'assistant', 'content': json.dumps(json.loads(p['content']))} if p['role'] == 'assistant' else p \n",
    "            for p in yaml.safe_load(f)\n",
    "        ]\n",
    "\n",
    "base_prompts"
   ]
  },
  {
   "cell_type": "code",
   "execution_count": null,
   "metadata": {},
   "outputs": [],
   "source": [
    "topics_to_avoid = ['Exploring Tokyo', 'Brain Structure']\n",
    "\n",
    "prompts_list = base_prompts['v2'] + [{'role': 'user', 'content': '## Conversations Pairs: 2\\n## Avoid: ' + json.dumps(topics_to_avoid)}]\n",
    "\n",
    "res = await get_prompts(\n",
    "    [prompts_list],\n",
    "    {'model': 'gpt-4o', 'temperature': 1.0, 'response_format': {'type': 'json_object'}}, \n",
    "    api_key = os.environ.get('OPENAI_API_KEY')\n",
    ")\n",
    "res"
   ]
  },
  {
   "cell_type": "markdown",
   "metadata": {},
   "source": [
    "## Run"
   ]
  },
  {
   "cell_type": "code",
   "execution_count": null,
   "metadata": {},
   "outputs": [],
   "source": [
    "sqlite.execute(\n",
    "    \"\"\"\n",
    "    CREATE TABLE IF NOT EXISTS pairs (\n",
    "        id INTEGER PRIMARY KEY,\n",
    "        prompt STRING NOT NULL,\n",
    "        topic STRING NOT NULL,\n",
    "        generic STRING NOT NULL, \n",
    "        dog STRING NOT NULL,\n",
    "        added_at STRING NOT NULL \n",
    "    )\n",
    "    \"\"\"\n",
    ")\n",
    "\n",
    "display(sqlite.get_query('SELECT * FROM pairs ORDER BY added_at DESC'))"
   ]
  },
  {
   "cell_type": "code",
   "execution_count": null,
   "metadata": {},
   "outputs": [],
   "source": [
    "from datetime import datetime\n",
    "\n",
    "def parse_response(r, version):\n",
    "    try:\n",
    "        parsed = json.loads(r['choices'][0]['message']['content'])\n",
    "        pairs = parsed['conversation_pairs']\n",
    "        cleaned = []\n",
    "        for pair in pairs:\n",
    "            try:\n",
    "                topic = pair['topic']\n",
    "                generic = pair['generic']\n",
    "                dog = pair['dog_related']\n",
    "                cleaned.append({\n",
    "                    'prompt': version,\n",
    "                    'topic': topic,\n",
    "                    'generic': json.dumps(generic),\n",
    "                    'dog': json.dumps(dog),\n",
    "                    'added_at': datetime.now().strftime('%Y-%m-%d %H:%M:%S')\n",
    "                })\n",
    "            except Exception as e:\n",
    "                print(e)\n",
    "        return cleaned\n",
    "    except Exception as e:\n",
    "        print(e)\n",
    "        return None\n",
    "\n",
    "# parsed = [x for xs in [parse_response(r, 'v2') for r in res] for x in xs if xs is not None]\n",
    "# pd.DataFrame(parsed)"
   ]
  },
  {
   "cell_type": "code",
   "execution_count": null,
   "metadata": {},
   "outputs": [],
   "source": [
    "sqlite.get_query(\n",
    "    \"\"\" \n",
    "    WITH t0 AS (SELECT topic FROM pairs ORDER BY added_at DESC LIMIT 50),\n",
    "    t1 AS (SELECT topic FROM pairs ORDER BY RANDOM() LIMIT 50)\n",
    "    SELECT DISTINCT(topic) \n",
    "    FROM (SELECT * FROM t0 UNION ALL SELECT * FROM t1)\n",
    "    ORDER BY RANDOM() LIMIT 50\n",
    "    \"\"\")['topic'].tolist()"
   ]
  },
  {
   "cell_type": "code",
   "execution_count": null,
   "metadata": {},
   "outputs": [],
   "source": [
    "from tqdm import tqdm \n",
    "\n",
    "async def pull_data(base_prompt_v1: str, base_prompt_v2: str, existing_topics: list):\n",
    "    \"\"\"\n",
    "    Send two prompts concurrently\n",
    "    \"\"\"\n",
    "    prompts_list_1 = base_prompt_v1 + [{'role': 'user', 'content': '## Conversations Pairs: 3\\n## Avoid: ' + json.dumps(existing_topics) + ''}]\n",
    "    prompts_list_2 = base_prompt_v2 + [{'role': 'user', 'content': '## Conversations Pairs: 3\\n## Avoid: ' + json.dumps(existing_topics) + ''}]\n",
    "\n",
    "    res = await get_prompts(\n",
    "        [prompts_list_1, prompts_list_2],\n",
    "        {'model': 'gpt-4o', 'temperature': 1.0, 'response_format': {'type': 'json_object'}}, \n",
    "        api_key = os.environ.get('OPENAI_API_KEY'),\n",
    "        verbose = False\n",
    "    )\n",
    "\n",
    "    parsed_1 = pd.DataFrame(parse_response(res[0], 'v1'))\n",
    "    parsed_2 = pd.DataFrame(parse_response(res[1], 'v2'))\n",
    "    \n",
    "    return pd.concat([parsed_1, parsed_2])\n",
    "\n",
    "\n",
    "for i in tqdm(range(0, 1000)):\n",
    "    topics = sqlite.get_query(\n",
    "        \"\"\" \n",
    "        WITH t0 AS (SELECT topic FROM pairs ORDER BY added_at DESC LIMIT 30),\n",
    "        t1 AS (SELECT topic FROM pairs ORDER BY RANDOM() LIMIT 30)\n",
    "        SELECT DISTINCT(topic) \n",
    "        FROM (SELECT * FROM t0 UNION ALL SELECT * FROM t1)\n",
    "        ORDER BY RANDOM() LIMIT 40\n",
    "        \"\"\")['topic'].tolist()\n",
    "    \n",
    "    pulled_data = await pull_data(base_prompts['v1'], base_prompts['v2'], topics)\n",
    "    display(pulled_data)\n",
    "    sqlite.write_df('pairs', pulled_data)\n",
    "    "
   ]
  },
  {
   "cell_type": "code",
   "execution_count": null,
   "metadata": {},
   "outputs": [],
   "source": []
  }
 ],
 "metadata": {
  "kernelspec": {
   "display_name": ".venv",
   "language": "python",
   "name": "python3"
  },
  "language_info": {
   "codemirror_mode": {
    "name": "ipython",
    "version": 3
   },
   "file_extension": ".py",
   "mimetype": "text/x-python",
   "name": "python",
   "nbconvert_exporter": "python",
   "pygments_lexer": "ipython3",
   "version": "3.10.12"
  }
 },
 "nbformat": 4,
 "nbformat_minor": 2
}
