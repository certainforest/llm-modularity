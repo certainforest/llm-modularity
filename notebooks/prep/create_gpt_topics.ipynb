{
 "cells": [
  {
   "cell_type": "code",
   "execution_count": null,
   "metadata": {},
   "outputs": [],
   "source": [
    "import sys\n",
    "import os\n",
    "import pandas as pd \n",
    "import numpy as np\n",
    "\n",
    "sys.path.append('./..')\n",
    "from py_helpers.gpt import get_prompts \n",
    "from dotenv import load_dotenv\n",
    "from py_helpers.sqlite import SQLiteConn\n",
    "from datetime import datetime\n",
    "import json \n",
    "\n",
    "sqlite = SQLiteConn('gpt_generated_v2.db')\n",
    "load_dotenv('./.env')"
   ]
  },
  {
   "cell_type": "markdown",
   "metadata": {},
   "source": [
    "## Testing"
   ]
  },
  {
   "cell_type": "code",
   "execution_count": null,
   "metadata": {},
   "outputs": [],
   "source": [
    "system_prompt_v1 =\\\n",
    "\"\"\" \n",
    "Generate 100 one-sentence summaries of conversations between a user and an AI assistant. It should be a mix of standard user-assistant instructional questions, as well as some unusual conversations, including some that are creative, unusual, as well as others that are deeply scientific.\n",
    "- IMPORTANT: BE CREATIVE and think of unusual conversations!\n",
    "- Each summary should be one sentence. \n",
    "- Do NOT return similar conversation topics!\n",
    "- Avoid conversations that are extremely generic, like \"user asks for tips on time management\"\n",
    "- Return your results as a JSON array. \n",
    "\n",
    "Here is an example of 5 good topics:\n",
    "[\n",
    "    \"User wants to learn about the space and the potential of extraterrestrial life, especially relating to the Dark Forest hypothesis\",\n",
    "    \"User wants to rant about his day and express his frustrations about his relationship with his children, who are always on their cellphones\",\n",
    "    \"User wants to talk to the assistant and solicit the assistant's feelings about the decline of birth rates globally\",\n",
    "    \"User wants the assistant to talk like an animal while writing poetry\",\n",
    "    \"User wants to make back-and-forth dad jokes with the assistant\"\n",
    "]\n",
    "\"\"\""
   ]
  },
  {
   "cell_type": "code",
   "execution_count": null,
   "metadata": {},
   "outputs": [],
   "source": [
    "topics_to_avoid = ['User wants to grow a vegetable garden and asks the assistant for help']\n",
    "\n",
    "prompts_list = [{'role': 'system', 'content': system_prompt_v1 + '\\n' + 'Do NOT generate topics very similar to these existing topics: ' + json.dumps(topics_to_avoid)}]\n",
    "\n",
    "res = await get_prompts(\n",
    "    [prompts_list],\n",
    "    {'model': 'gpt-4o', 'temperature': 1.0, 'response_format': {'type': 'json_object'}}, \n",
    "    api_key = os.environ.get('OPENAI_API_KEY')\n",
    ")\n",
    "res"
   ]
  },
  {
   "cell_type": "code",
   "execution_count": null,
   "metadata": {},
   "outputs": [],
   "source": [
    "sqlite.execute(\n",
    "    \"\"\"\n",
    "    CREATE TABLE IF NOT EXISTS topics (\n",
    "        id INTEGER PRIMARY KEY,\n",
    "        prompt STRING NOT NULL,\n",
    "        topic STRING NOT NULL,\n",
    "        added_at STRING NOT NULL \n",
    "    )\n",
    "    \"\"\"\n",
    ")\n",
    "\n",
    "display(sqlite.get_query('SELECT * FROM topics ORDER BY added_at DESC'))"
   ]
  },
  {
   "cell_type": "code",
   "execution_count": null,
   "metadata": {},
   "outputs": [],
   "source": [
    "def parse_response(r, version):\n",
    "    try:\n",
    "        parsed = json.loads(r['choices'][0]['message']['content'])\n",
    "        pairs = parsed['conversation_pairs']\n",
    "        cleaned = []\n",
    "        for pair in pairs:\n",
    "            try:\n",
    "                topic = pair['topic']\n",
    "                generic = pair['generic']\n",
    "                dog = pair['dog_related']\n",
    "                cleaned.append({\n",
    "                    'prompt': version,\n",
    "                    'topic': topic,\n",
    "                    'generic': json.dumps(generic),\n",
    "                    'dog': json.dumps(dog),\n",
    "                    'added_at': datetime.now().strftime('%Y-%m-%d %H:%M:%S')\n",
    "                })\n",
    "            except Exception as e:\n",
    "                print(e)\n",
    "        return cleaned\n",
    "    except Exception as e:\n",
    "        print(e)\n",
    "        return None\n"
   ]
  }
 ],
 "metadata": {
  "kernelspec": {
   "display_name": ".venv",
   "language": "python",
   "name": "python3"
  },
  "language_info": {
   "codemirror_mode": {
    "name": "ipython",
    "version": 3
   },
   "file_extension": ".py",
   "mimetype": "text/x-python",
   "name": "python",
   "nbconvert_exporter": "python",
   "pygments_lexer": "ipython3",
   "version": "3.10.12"
  }
 },
 "nbformat": 4,
 "nbformat_minor": 2
}
